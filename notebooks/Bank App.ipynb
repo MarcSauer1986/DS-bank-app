{
 "cells": [
  {
   "cell_type": "code",
   "execution_count": 450,
   "metadata": {},
   "outputs": [
    {
     "name": "stdout",
     "output_type": "stream",
     "text": [
      "The autoreload extension is already loaded. To reload it, use:\n",
      "  %reload_ext autoreload\n"
     ]
    }
   ],
   "source": [
    "%load_ext autoreload\n",
    "%autoreload 2"
   ]
  },
  {
   "cell_type": "code",
   "execution_count": 451,
   "metadata": {},
   "outputs": [],
   "source": [
    "import app"
   ]
  },
  {
   "cell_type": "code",
   "execution_count": 452,
   "metadata": {},
   "outputs": [],
   "source": [
    "bank = app.Bank('DKB')"
   ]
  },
  {
   "cell_type": "code",
   "execution_count": 453,
   "metadata": {},
   "outputs": [
    {
     "name": "stdout",
     "output_type": "stream",
     "text": [
      "Bank: DKB\n",
      "Accounts: {}\n",
      "Transactions: []\n"
     ]
    }
   ],
   "source": [
    "print(f'Bank: {bank.name}')\n",
    "print(f'Accounts: {bank.accounts}')\n",
    "print(f'Transactions: {bank.transactions}')"
   ]
  },
  {
   "cell_type": "code",
   "execution_count": 454,
   "metadata": {},
   "outputs": [
    {
     "data": {
      "text/plain": [
       "<app.account.Account at 0x1086ae2b0>"
      ]
     },
     "execution_count": 454,
     "metadata": {},
     "output_type": "execute_result"
    }
   ],
   "source": [
    "account_1 = app.Account(number=1,firstname='Peter',lastname='Vollrath')\n",
    "bank.open_account(account_1)"
   ]
  },
  {
   "cell_type": "code",
   "execution_count": 455,
   "metadata": {},
   "outputs": [
    {
     "name": "stdout",
     "output_type": "stream",
     "text": [
      "1 Peter Vollrath\n"
     ]
    }
   ],
   "source": [
    "print(account_1.number, account_1.firstname, account_1.lastname)"
   ]
  },
  {
   "cell_type": "code",
   "execution_count": 456,
   "metadata": {},
   "outputs": [
    {
     "name": "stdout",
     "output_type": "stream",
     "text": [
      "Accounts: {1: <app.account.Account object at 0x1086ae2b0>}\n"
     ]
    }
   ],
   "source": [
    "print(f'Accounts: {bank.accounts}')"
   ]
  },
  {
   "cell_type": "code",
   "execution_count": 457,
   "metadata": {},
   "outputs": [
    {
     "data": {
      "text/plain": [
       "<app.account.Account at 0x1086ae358>"
      ]
     },
     "execution_count": 457,
     "metadata": {},
     "output_type": "execute_result"
    }
   ],
   "source": [
    "account_2 = app.Account(number=2,firstname='Peter',lastname='Vollrath')\n",
    "bank.open_account(account_2)"
   ]
  },
  {
   "cell_type": "code",
   "execution_count": 458,
   "metadata": {},
   "outputs": [
    {
     "name": "stdout",
     "output_type": "stream",
     "text": [
      "2 Peter Vollrath 0.0\n"
     ]
    }
   ],
   "source": [
    "print(account_2.number, account_2.firstname, account_2.lastname, account_2.balance)"
   ]
  },
  {
   "cell_type": "code",
   "execution_count": 459,
   "metadata": {},
   "outputs": [
    {
     "name": "stdout",
     "output_type": "stream",
     "text": [
      "Accounts: {1: <app.account.Account object at 0x1086ae2b0>, 2: <app.account.Account object at 0x1086ae358>}\n"
     ]
    }
   ],
   "source": [
    "print(f'Accounts: {bank.accounts}')"
   ]
  },
  {
   "cell_type": "code",
   "execution_count": 460,
   "metadata": {},
   "outputs": [
    {
     "data": {
      "text/plain": [
       "<app.account.Account at 0x1086ae4a8>"
      ]
     },
     "execution_count": 460,
     "metadata": {},
     "output_type": "execute_result"
    }
   ],
   "source": [
    "account_3 = app.Account(number=3,firstname='Peter',lastname='Vollrath')\n",
    "bank.open_account(account_3)"
   ]
  },
  {
   "cell_type": "code",
   "execution_count": 461,
   "metadata": {},
   "outputs": [
    {
     "name": "stdout",
     "output_type": "stream",
     "text": [
      "Bank: DKB\n",
      "Accounts: {1: <app.account.Account object at 0x1086ae2b0>, 2: <app.account.Account object at 0x1086ae358>, 3: <app.account.Account object at 0x1086ae4a8>}\n",
      "Transactions: []\n"
     ]
    }
   ],
   "source": [
    "print(f'Bank: {bank.name}')\n",
    "print(f'Accounts: {bank.accounts}')\n",
    "print(f'Transactions: {bank.transactions}')"
   ]
  },
  {
   "cell_type": "code",
   "execution_count": 462,
   "metadata": {},
   "outputs": [
    {
     "data": {
      "text/plain": [
       "'Number 1: Peter Vollrath - 0.0 €'"
      ]
     },
     "execution_count": 462,
     "metadata": {},
     "output_type": "execute_result"
    }
   ],
   "source": [
    "account_1.info()"
   ]
  },
  {
   "cell_type": "code",
   "execution_count": 463,
   "metadata": {},
   "outputs": [
    {
     "name": "stdout",
     "output_type": "stream",
     "text": [
      "Accounts: {1: <app.account.Account object at 0x1086ae2b0>, 2: <app.account.Account object at 0x1086ae358>, 3: <app.account.Account object at 0x1086ae4a8>}\n"
     ]
    }
   ],
   "source": [
    "print(f'Accounts: {bank.accounts}')"
   ]
  },
  {
   "cell_type": "code",
   "execution_count": 464,
   "metadata": {},
   "outputs": [
    {
     "data": {
      "text/plain": [
       "'Number 2: Peter Vollrath - 0.0 €'"
      ]
     },
     "execution_count": 464,
     "metadata": {},
     "output_type": "execute_result"
    }
   ],
   "source": [
    "account_2.info()"
   ]
  },
  {
   "cell_type": "code",
   "execution_count": 465,
   "metadata": {},
   "outputs": [],
   "source": [
    "account_3.add_to_balance(50)"
   ]
  },
  {
   "cell_type": "code",
   "execution_count": 466,
   "metadata": {},
   "outputs": [
    {
     "data": {
      "text/plain": [
       "'Number 3: Peter Vollrath - 50.0 €'"
      ]
     },
     "execution_count": 466,
     "metadata": {},
     "output_type": "execute_result"
    }
   ],
   "source": [
    "account_3.info()"
   ]
  },
  {
   "cell_type": "code",
   "execution_count": 467,
   "metadata": {},
   "outputs": [],
   "source": [
    "account_1.add_to_balance(10000000)"
   ]
  },
  {
   "cell_type": "code",
   "execution_count": 468,
   "metadata": {},
   "outputs": [
    {
     "data": {
      "text/plain": [
       "'Number 3: Peter Vollrath - 50.0 €'"
      ]
     },
     "execution_count": 468,
     "metadata": {},
     "output_type": "execute_result"
    }
   ],
   "source": [
    "account_3.info()"
   ]
  },
  {
   "cell_type": "code",
   "execution_count": 469,
   "metadata": {},
   "outputs": [],
   "source": [
    "transaction_1 = bank.add_transaction(sender=account_1, recipient=account_2, subject='Haus', amount=200000.0, category='Immobilie')"
   ]
  },
  {
   "cell_type": "code",
   "execution_count": 470,
   "metadata": {},
   "outputs": [
    {
     "name": "stdout",
     "output_type": "stream",
     "text": [
      "Bank: DKB\n",
      "Accounts: {1: <app.account.Account object at 0x1086ae2b0>, 2: <app.account.Account object at 0x1086ae358>, 3: <app.account.Account object at 0x1086ae4a8>}\n",
      "Transactions: [<app.transaction.Transaction object at 0x1086ae828>]\n"
     ]
    }
   ],
   "source": [
    "print(f'Bank: {bank.name}')\n",
    "print(f'Accounts: {bank.accounts}')\n",
    "print(f'Transactions: {bank.transactions}')"
   ]
  },
  {
   "cell_type": "code",
   "execution_count": 471,
   "metadata": {},
   "outputs": [],
   "source": [
    "transaction_2 = bank.add_transaction(sender=account_1, recipient=account_2, subject='Grundsteuer', amount=1020.0, category='Immobilie')"
   ]
  },
  {
   "cell_type": "code",
   "execution_count": 472,
   "metadata": {},
   "outputs": [],
   "source": [
    "transaction_3 = bank.add_transaction(sender=account_1, recipient=account_2, subject='Notargebühr', amount=9000.0, category='Immobilie')"
   ]
  },
  {
   "cell_type": "code",
   "execution_count": 473,
   "metadata": {},
   "outputs": [
    {
     "name": "stdout",
     "output_type": "stream",
     "text": [
      "Bank: DKB\n",
      "Accounts: {1: <app.account.Account object at 0x1086ae2b0>, 2: <app.account.Account object at 0x1086ae358>, 3: <app.account.Account object at 0x1086ae4a8>}\n",
      "Transactions: [<app.transaction.Transaction object at 0x1086ae828>, <app.transaction.Transaction object at 0x1086ae438>, <app.transaction.Transaction object at 0x1086ae278>]\n"
     ]
    }
   ],
   "source": [
    "print(f'Bank: {bank.name}')\n",
    "print(f'Accounts: {bank.accounts}')\n",
    "print(f'Transactions: {bank.transactions}')"
   ]
  },
  {
   "cell_type": "code",
   "execution_count": 518,
   "metadata": {},
   "outputs": [],
   "source": [
    "transaction_4 = bank.add_transaction(sender=account_2, recipient=account_1, subject='Restaurantbesuch', amount=90.0, category='Freizeit')"
   ]
  },
  {
   "cell_type": "code",
   "execution_count": 519,
   "metadata": {},
   "outputs": [
    {
     "name": "stdout",
     "output_type": "stream",
     "text": [
      "Bank: DKB\n",
      "Accounts: {1: <app.account.Account object at 0x1086ae2b0>, 2: <app.account.Account object at 0x1086ae358>, 3: <app.account.Account object at 0x1086ae4a8>}\n",
      "Transactions: [<app.transaction.Transaction object at 0x1086ae828>, <app.transaction.Transaction object at 0x1086ae438>, <app.transaction.Transaction object at 0x1086ae278>, <app.transaction.Transaction object at 0x1086c19e8>]\n"
     ]
    }
   ],
   "source": [
    "print(f'Bank: {bank.name}')\n",
    "print(f'Accounts: {bank.accounts}')\n",
    "print(f'Transactions: {bank.transactions}')"
   ]
  },
  {
   "cell_type": "code",
   "execution_count": 520,
   "metadata": {},
   "outputs": [
    {
     "data": {
      "text/plain": [
       "'Transaction-ID: 38d0f2d8-7ea9-41bf-8673-4ad4f729d2a0. Timestamp: 1549623801.580798. Time: 2019-02-08 12:03:21. From 1 to 2: Grundsteuer (category: Immobilie) - 1020.0 €'"
      ]
     },
     "execution_count": 520,
     "metadata": {},
     "output_type": "execute_result"
    }
   ],
   "source": [
    "transaction_2.info()"
   ]
  },
  {
   "cell_type": "code",
   "execution_count": 521,
   "metadata": {},
   "outputs": [
    {
     "data": {
      "text/plain": [
       "'Number 2: Peter Vollrath - 209930.0 €'"
      ]
     },
     "execution_count": 521,
     "metadata": {},
     "output_type": "execute_result"
    }
   ],
   "source": [
    "account_2.info()"
   ]
  },
  {
   "cell_type": "code",
   "execution_count": 522,
   "metadata": {},
   "outputs": [
    {
     "data": {
      "text/plain": [
       "'Transaction-ID: 1ed4c7ee-e0dc-4b46-a4ee-7450769c3ec0. Timestamp: 1549623801.412361. Time: 2019-02-08 12:03:21. From 1 to 2: Haus (category: Immobilie) - 200000.0 €'"
      ]
     },
     "execution_count": 522,
     "metadata": {},
     "output_type": "execute_result"
    }
   ],
   "source": [
    "transaction_1.info()"
   ]
  },
  {
   "cell_type": "code",
   "execution_count": 523,
   "metadata": {},
   "outputs": [
    {
     "data": {
      "text/plain": [
       "'Transaction-ID: 1ed4c7ee-e0dc-4b46-a4ee-7450769c3ec0. Timestamp: 1549623801.412361. Time: 2019-02-08 12:03:21. From 1 to 2: Haus (category: Immobilie) - 200000.0 €'"
      ]
     },
     "execution_count": 523,
     "metadata": {},
     "output_type": "execute_result"
    }
   ],
   "source": [
    "transaction_1.info()"
   ]
  },
  {
   "cell_type": "code",
   "execution_count": 524,
   "metadata": {},
   "outputs": [
    {
     "data": {
      "text/plain": [
       "'Transaction-ID: 38d0f2d8-7ea9-41bf-8673-4ad4f729d2a0. Timestamp: 1549623801.580798. Time: 2019-02-08 12:03:21. From 1 to 2: Grundsteuer (category: Immobilie) - 1020.0 €'"
      ]
     },
     "execution_count": 524,
     "metadata": {},
     "output_type": "execute_result"
    }
   ],
   "source": [
    "transaction_2.info()"
   ]
  },
  {
   "cell_type": "code",
   "execution_count": 525,
   "metadata": {},
   "outputs": [
    {
     "data": {
      "text/plain": [
       "'Transaction-ID: 94465dd1-8f9f-4e5f-96db-14eedaafc72d. Timestamp: 1549623801.664292. Time: 2019-02-08 12:03:21. From 1 to 2: Notargebühr (category: Immobilie) - 9000.0 €'"
      ]
     },
     "execution_count": 525,
     "metadata": {},
     "output_type": "execute_result"
    }
   ],
   "source": [
    "transaction_3.info()"
   ]
  },
  {
   "cell_type": "code",
   "execution_count": 526,
   "metadata": {},
   "outputs": [
    {
     "data": {
      "text/plain": [
       "'Transaction-ID: 94465dd1-8f9f-4e5f-96db-14eedaafc72d. Timestamp: 1549623801.664292. Time: 2019-02-08 12:03:21. From 1 to 2: Notargebühr (category: Immobilie) - 9000.0 €'"
      ]
     },
     "execution_count": 526,
     "metadata": {},
     "output_type": "execute_result"
    }
   ],
   "source": [
    "transaction_3.info()"
   ]
  },
  {
   "cell_type": "code",
   "execution_count": 527,
   "metadata": {},
   "outputs": [
    {
     "data": {
      "text/plain": [
       "'Transaction-ID: 94465dd1-8f9f-4e5f-96db-14eedaafc72d. Timestamp: 1549623801.664292. Time: 2019-02-08 12:03:21. From 1 to 2: Notargebühr (category: Immobilie) - 9000.0 €'"
      ]
     },
     "execution_count": 527,
     "metadata": {},
     "output_type": "execute_result"
    }
   ],
   "source": [
    "transaction_3.info()"
   ]
  },
  {
   "cell_type": "code",
   "execution_count": 528,
   "metadata": {},
   "outputs": [
    {
     "name": "stdout",
     "output_type": "stream",
     "text": [
      "Transaction-ID: 1ed4c7ee-e0dc-4b46-a4ee-7450769c3ec0. Timestamp: 1549623801.412361. Time: 2019-02-08 12:03:21. From 1 to 2: Haus (category: Immobilie) - 200000.0 €\n",
      "Transaction-ID: 38d0f2d8-7ea9-41bf-8673-4ad4f729d2a0. Timestamp: 1549623801.580798. Time: 2019-02-08 12:03:21. From 1 to 2: Grundsteuer (category: Immobilie) - 1020.0 €\n",
      "Transaction-ID: 94465dd1-8f9f-4e5f-96db-14eedaafc72d. Timestamp: 1549623801.664292. Time: 2019-02-08 12:03:21. From 1 to 2: Notargebühr (category: Immobilie) - 9000.0 €\n"
     ]
    }
   ],
   "source": [
    "print(transaction_1.info())\n",
    "print(transaction_2.info())\n",
    "print(transaction_3.info())"
   ]
  },
  {
   "cell_type": "code",
   "execution_count": 529,
   "metadata": {},
   "outputs": [
    {
     "name": "stdout",
     "output_type": "stream",
     "text": [
      "Bank: DKB\n",
      "Accounts: {1: <app.account.Account object at 0x1086ae2b0>, 2: <app.account.Account object at 0x1086ae358>, 3: <app.account.Account object at 0x1086ae4a8>}\n",
      "Transactions: [<app.transaction.Transaction object at 0x1086ae828>, <app.transaction.Transaction object at 0x1086ae438>, <app.transaction.Transaction object at 0x1086ae278>, <app.transaction.Transaction object at 0x1086c19e8>]\n"
     ]
    }
   ],
   "source": [
    "print(f'Bank: {bank.name}')\n",
    "print(f'Accounts: {bank.accounts}')\n",
    "print(f'Transactions: {bank.transactions}')"
   ]
  },
  {
   "cell_type": "code",
   "execution_count": 555,
   "metadata": {},
   "outputs": [
    {
     "name": "stdout",
     "output_type": "stream",
     "text": [
      "Bank: DKB\n",
      "\n",
      "\n",
      "Account holder: Peter Vollrath\n",
      "\n",
      "\n",
      "All transactions\n",
      "Transaction-ID: 1ed4c7ee-e0dc-4b46-a4ee-7450769c3ec0. Timestamp: 1549623801.412361. Time: 2019-02-08 12:03:21. From 1 to 2: Haus (category: Immobilie) - 200000.0 €\n",
      "Transaction-ID: 38d0f2d8-7ea9-41bf-8673-4ad4f729d2a0. Timestamp: 1549623801.580798. Time: 2019-02-08 12:03:21. From 1 to 2: Grundsteuer (category: Immobilie) - 1020.0 €\n",
      "Transaction-ID: 94465dd1-8f9f-4e5f-96db-14eedaafc72d. Timestamp: 1549623801.664292. Time: 2019-02-08 12:03:21. From 1 to 2: Notargebühr (category: Immobilie) - 9000.0 €\n",
      "Transaction-ID: db5391bd-2853-4f71-b119-ae3d2a993c60. Timestamp: 1549624641.404129. Time: 2019-02-08 12:17:21. From 2 to 1: Restaurantbesuch (category: Freizeit) - 90.0 €\n",
      "\n",
      "\n",
      "Account balance: 9790070.0 €\n"
     ]
    }
   ],
   "source": [
    "print(f'Bank: {bank.name}')\n",
    "print(\"\\n\")\n",
    "print(f'Account holder: {account_1.firstname} {account_1.lastname}')\n",
    "print(\"\\n\")\n",
    "print('All transactions')\n",
    "for t in bank.transactions:\n",
    "    print(t.info())\n",
    "print(\"\\n\")\n",
    "print(f'Account balance: {account_1.balance} €')"
   ]
  },
  {
   "cell_type": "code",
   "execution_count": 531,
   "metadata": {},
   "outputs": [
    {
     "name": "stdout",
     "output_type": "stream",
     "text": [
      "Transactions: [<app.transaction.Transaction object at 0x1086ae828>, <app.transaction.Transaction object at 0x1086ae438>, <app.transaction.Transaction object at 0x1086ae278>, <app.transaction.Transaction object at 0x1086c19e8>]\n"
     ]
    }
   ],
   "source": [
    "print(f'Transactions: {bank.transactions}')"
   ]
  },
  {
   "cell_type": "code",
   "execution_count": 532,
   "metadata": {},
   "outputs": [
    {
     "name": "stdout",
     "output_type": "stream",
     "text": [
      "[<app.transaction.Transaction object at 0x1086ae828>, <app.transaction.Transaction object at 0x1086ae438>, <app.transaction.Transaction object at 0x1086ae278>, <app.transaction.Transaction object at 0x1086c19e8>]\n"
     ]
    }
   ],
   "source": [
    "print(bank.transactions)"
   ]
  },
  {
   "cell_type": "code",
   "execution_count": 542,
   "metadata": {},
   "outputs": [
    {
     "data": {
      "text/plain": [
       "'Transaction-ID: 38d0f2d8-7ea9-41bf-8673-4ad4f729d2a0. Timestamp: 1549623801.580798. Time: 2019-02-08 12:03:21. From 1 to 2: Grundsteuer (category: Immobilie) - 1020.0 €'"
      ]
     },
     "execution_count": 542,
     "metadata": {},
     "output_type": "execute_result"
    }
   ],
   "source": [
    "bank.transactions[1].info()"
   ]
  },
  {
   "cell_type": "code",
   "execution_count": null,
   "metadata": {},
   "outputs": [],
   "source": []
  },
  {
   "cell_type": "code",
   "execution_count": 551,
   "metadata": {},
   "outputs": [
    {
     "data": {
      "text/plain": [
       "'Transaction-ID: 1ed4c7ee-e0dc-4b46-a4ee-7450769c3ec0. Timestamp: 1549623801.412361. Time: 2019-02-08 12:03:21. From 1 to 2: Haus (category: Immobilie) - 200000.0 €'"
      ]
     },
     "execution_count": 551,
     "metadata": {},
     "output_type": "execute_result"
    }
   ],
   "source": [
    "bank.transactions[0].info()"
   ]
  },
  {
   "cell_type": "code",
   "execution_count": 565,
   "metadata": {},
   "outputs": [
    {
     "ename": "AttributeError",
     "evalue": "'Bank' object has no attribute 'statement'",
     "output_type": "error",
     "traceback": [
      "\u001b[0;31m---------------------------------------------------------------------------\u001b[0m",
      "\u001b[0;31mAttributeError\u001b[0m                            Traceback (most recent call last)",
      "\u001b[0;32m<ipython-input-565-51ef4aba0dae>\u001b[0m in \u001b[0;36m<module>\u001b[0;34m\u001b[0m\n\u001b[0;32m----> 1\u001b[0;31m \u001b[0mbank\u001b[0m\u001b[0;34m.\u001b[0m\u001b[0mstatement\u001b[0m\u001b[0;34m(\u001b[0m\u001b[0;34m)\u001b[0m\u001b[0;34m\u001b[0m\u001b[0;34m\u001b[0m\u001b[0m\n\u001b[0m",
      "\u001b[0;31mAttributeError\u001b[0m: 'Bank' object has no attribute 'statement'"
     ]
    }
   ],
   "source": [
    "bank."
   ]
  },
  {
   "cell_type": "code",
   "execution_count": null,
   "metadata": {},
   "outputs": [],
   "source": []
  }
 ],
 "metadata": {
  "kernelspec": {
   "display_name": "Python 3",
   "language": "python",
   "name": "python3"
  },
  "language_info": {
   "codemirror_mode": {
    "name": "ipython",
    "version": 3
   },
   "file_extension": ".py",
   "mimetype": "text/x-python",
   "name": "python",
   "nbconvert_exporter": "python",
   "pygments_lexer": "ipython3",
   "version": "3.6.8"
  }
 },
 "nbformat": 4,
 "nbformat_minor": 2
}

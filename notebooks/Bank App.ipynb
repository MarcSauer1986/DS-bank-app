{
 "cells": [
  {
   "cell_type": "code",
   "execution_count": 1,
   "metadata": {},
   "outputs": [],
   "source": [
    "%load_ext autoreload\n",
    "%autoreload 2"
   ]
  },
  {
   "cell_type": "code",
   "execution_count": 2,
   "metadata": {},
   "outputs": [],
   "source": [
    "from app import Bank"
   ]
  },
  {
   "cell_type": "code",
   "execution_count": 3,
   "metadata": {},
   "outputs": [],
   "source": [
    "bank = Bank('DKB')"
   ]
  },
  {
   "cell_type": "code",
   "execution_count": 4,
   "metadata": {},
   "outputs": [
    {
     "name": "stdout",
     "output_type": "stream",
     "text": [
      "Bank: DKB\n",
      "Accounts: []\n",
      "Transactions: []\n"
     ]
    }
   ],
   "source": [
    "print(f'Bank: {bank.name}')\n",
    "print(f'Accounts: {bank.accounts}')\n",
    "print(f'Transactions: {bank.transactions}')"
   ]
  },
  {
   "cell_type": "code",
   "execution_count": 5,
   "metadata": {},
   "outputs": [],
   "source": [
    "bank = Bank('ING')"
   ]
  },
  {
   "cell_type": "code",
   "execution_count": 6,
   "metadata": {},
   "outputs": [
    {
     "name": "stdout",
     "output_type": "stream",
     "text": [
      "Bank: ING\n"
     ]
    }
   ],
   "source": [
    "print(f'Bank: {bank.name}')"
   ]
  },
  {
   "cell_type": "code",
   "execution_count": 7,
   "metadata": {},
   "outputs": [
    {
     "name": "stdout",
     "output_type": "stream",
     "text": [
      "Bank: ING\n",
      "Accounts: []\n",
      "Transactions: []\n"
     ]
    }
   ],
   "source": [
    "print(f'Bank: {bank.name}')\n",
    "print(f'Accounts: {bank.accounts}')\n",
    "print(f'Transactions: {bank.transactions}')"
   ]
  },
  {
   "cell_type": "code",
   "execution_count": 48,
   "metadata": {},
   "outputs": [],
   "source": [
    "bank2 = Bank('ING')\n",
    "new_account = bank2.open_account({\n",
    "            'number': 1,\n",
    "            'firstname': 'Kira',\n",
    "            'lastname': 'Lehn',\n",
    "        })"
   ]
  },
  {
   "cell_type": "code",
   "execution_count": 50,
   "metadata": {},
   "outputs": [
    {
     "name": "stdout",
     "output_type": "stream",
     "text": [
      "{'number': 1, 'firstname': 'Kira', 'lastname': 'Lehn'}\n"
     ]
    }
   ],
   "source": [
    "print(new_account)"
   ]
  },
  {
   "cell_type": "code",
   "execution_count": 51,
   "metadata": {},
   "outputs": [],
   "source": [
    "new_account2 = bank2.open_account({\n",
    "            'number': 2,\n",
    "            'firstname': 'Marc',\n",
    "            'lastname': 'Sauer',\n",
    "        })"
   ]
  },
  {
   "cell_type": "code",
   "execution_count": 52,
   "metadata": {},
   "outputs": [
    {
     "name": "stdout",
     "output_type": "stream",
     "text": [
      "Bank: ING\n",
      "Accounts: [{'number': 1, 'firstname': 'Kira', 'lastname': 'Lehn'}, {'number': 2, 'firstname': 'Marc', 'lastname': 'Sauer'}]\n",
      "Transactions: []\n"
     ]
    }
   ],
   "source": [
    "print(f'Bank: {bank2.name}')\n",
    "print(f'Accounts: {bank2.accounts}')\n",
    "print(f'Transactions: {bank2.transactions}')"
   ]
  },
  {
   "cell_type": "code",
   "execution_count": 39,
   "metadata": {
    "scrolled": true
   },
   "outputs": [],
   "source": [
    "new_transaction = bank2.add_transaction(sender=new_account2, recipient=new_account, subject='Bücher', amount=10070)"
   ]
  },
  {
   "cell_type": "code",
   "execution_count": 40,
   "metadata": {},
   "outputs": [
    {
     "name": "stdout",
     "output_type": "stream",
     "text": [
      "{'sender': {'number': 2, 'firstname': 'Marc', 'lastname': 'Sauer'}, 'recipient': {'number': 1, 'firstname': 'Marc', 'lastname': 'Sauer'}, 'subject': 'Bücher', 'amount': 10070}\n"
     ]
    }
   ],
   "source": [
    "print(new_transaction)"
   ]
  },
  {
   "cell_type": "code",
   "execution_count": 41,
   "metadata": {},
   "outputs": [
    {
     "name": "stdout",
     "output_type": "stream",
     "text": [
      "Transactions: [{'sender': {'number': 1, 'firstname': 'Marc', 'lastname': 'Sauer'}, 'recipient': {'number': 1, 'firstname': 'Marc', 'lastname': 'Sauer'}, 'subject': 'Bücher', 'amount': 10070}, {'sender': {'number': 2, 'firstname': 'Marc', 'lastname': 'Sauer'}, 'recipient': {'number': 1, 'firstname': 'Marc', 'lastname': 'Sauer'}, 'subject': 'Bücher', 'amount': 10070}]\n"
     ]
    }
   ],
   "source": [
    "print(f'Transactions: {bank2.transactions}')"
   ]
  },
  {
   "cell_type": "code",
   "execution_count": 46,
   "metadata": {},
   "outputs": [
    {
     "name": "stdout",
     "output_type": "stream",
     "text": [
      "Accounts: []\n"
     ]
    }
   ],
   "source": [
    "print(f'Accounts: {bank.accounts}')"
   ]
  },
  {
   "cell_type": "code",
   "execution_count": 49,
   "metadata": {},
   "outputs": [
    {
     "name": "stdout",
     "output_type": "stream",
     "text": [
      "Accounts: [{'number': 1, 'firstname': 'Kira', 'lastname': 'Lehn'}]\n"
     ]
    }
   ],
   "source": [
    "print(f'Accounts: {bank2.accounts}')"
   ]
  },
  {
   "cell_type": "code",
   "execution_count": 53,
   "metadata": {},
   "outputs": [
    {
     "name": "stdout",
     "output_type": "stream",
     "text": [
      "Bank: ING\n",
      "Accounts: [{'number': 1, 'firstname': 'Kira', 'lastname': 'Lehn'}, {'number': 2, 'firstname': 'Marc', 'lastname': 'Sauer'}]\n"
     ]
    }
   ],
   "source": [
    "print(f'Bank: {bank2.name}')\n",
    "print(f'Accounts: {bank2.accounts}')"
   ]
  },
  {
   "cell_type": "code",
   "execution_count": null,
   "metadata": {},
   "outputs": [],
   "source": []
  }
 ],
 "metadata": {
  "kernelspec": {
   "display_name": "Python 3",
   "language": "python",
   "name": "python3"
  },
  "language_info": {
   "codemirror_mode": {
    "name": "ipython",
    "version": 3
   },
   "file_extension": ".py",
   "mimetype": "text/x-python",
   "name": "python",
   "nbconvert_exporter": "python",
   "pygments_lexer": "ipython3",
   "version": "3.6.8"
  }
 },
 "nbformat": 4,
 "nbformat_minor": 2
}
